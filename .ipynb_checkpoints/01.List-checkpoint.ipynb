{
 "cells": [
  {
   "cell_type": "code",
   "execution_count": 1,
   "metadata": {},
   "outputs": [
    {
     "ename": "NameError",
     "evalue": "name 'List' is not defined",
     "output_type": "error",
     "traceback": [
      "\u001b[0;31m---------------------------------------------------------------------------\u001b[0m",
      "\u001b[0;31mNameError\u001b[0m                                 Traceback (most recent call last)",
      "\u001b[0;32m<ipython-input-1-f669dc9ff9c2>\u001b[0m in \u001b[0;36m<module>\u001b[0;34m\u001b[0m\n\u001b[1;32m      1\u001b[0m \u001b[0;31m# All concepts\u001b[0m\u001b[0;34m\u001b[0m\u001b[0;34m\u001b[0m\u001b[0;34m\u001b[0m\u001b[0m\n\u001b[1;32m      2\u001b[0m ToC = {\n\u001b[0;32m----> 3\u001b[0;31m     \u001b[0;34m'1. Collections'\u001b[0m\u001b[0;34m:\u001b[0m \u001b[0;34m[\u001b[0m\u001b[0mList\u001b[0m\u001b[0;34m,\u001b[0m \u001b[0mDictionary\u001b[0m\u001b[0;34m,\u001b[0m \u001b[0mSet\u001b[0m\u001b[0;34m,\u001b[0m \u001b[0mTuple\u001b[0m\u001b[0;34m,\u001b[0m \u001b[0mRange\u001b[0m\u001b[0;34m,\u001b[0m \u001b[0mEnumerate\u001b[0m\u001b[0;34m,\u001b[0m \u001b[0mIterator\u001b[0m\u001b[0;34m,\u001b[0m \u001b[0mGenerator\u001b[0m\u001b[0;34m]\u001b[0m\u001b[0;34m,\u001b[0m\u001b[0;34m\u001b[0m\u001b[0;34m\u001b[0m\u001b[0m\n\u001b[0m\u001b[1;32m      4\u001b[0m     \u001b[0;34m'2. Types'\u001b[0m\u001b[0;34m:\u001b[0m       \u001b[0;34m[\u001b[0m\u001b[0mType\u001b[0m\u001b[0;34m,\u001b[0m \u001b[0mString\u001b[0m\u001b[0;34m,\u001b[0m \u001b[0mRegular_Exp\u001b[0m\u001b[0;34m,\u001b[0m \u001b[0mFormat\u001b[0m\u001b[0;34m,\u001b[0m \u001b[0mNumbers\u001b[0m\u001b[0;34m,\u001b[0m \u001b[0mCombinatorics\u001b[0m\u001b[0;34m,\u001b[0m \u001b[0mDatetime\u001b[0m\u001b[0;34m]\u001b[0m\u001b[0;34m,\u001b[0m\u001b[0;34m\u001b[0m\u001b[0;34m\u001b[0m\u001b[0m\n\u001b[1;32m      5\u001b[0m     \u001b[0;34m'3. Syntax'\u001b[0m\u001b[0;34m:\u001b[0m      \u001b[0;34m[\u001b[0m\u001b[0mArgs\u001b[0m\u001b[0;34m,\u001b[0m \u001b[0mInline\u001b[0m\u001b[0;34m,\u001b[0m \u001b[0mClosure\u001b[0m\u001b[0;34m,\u001b[0m \u001b[0mDecorator\u001b[0m\u001b[0;34m,\u001b[0m \u001b[0mClass\u001b[0m\u001b[0;34m,\u001b[0m \u001b[0mDuck_Type\u001b[0m\u001b[0;34m,\u001b[0m \u001b[0mEnum\u001b[0m\u001b[0;34m,\u001b[0m \u001b[0mException\u001b[0m\u001b[0;34m]\u001b[0m\u001b[0;34m,\u001b[0m\u001b[0;34m\u001b[0m\u001b[0;34m\u001b[0m\u001b[0m\n",
      "\u001b[0;31mNameError\u001b[0m: name 'List' is not defined"
     ]
    }
   ],
   "source": [
    "# All concepts \n",
    "ToC = {\n",
    "    '1. Collections': [List, Dictionary, Set, Tuple, Range, Enumerate, Iterator, Generator],\n",
    "    '2. Types':       [Type, String, Regular_Exp, Format, Numbers, Combinatorics, Datetime],\n",
    "    '3. Syntax':      [Args, Inline, Closure, Decorator, Class, Duck_Type, Enum, Exception],\n",
    "    '4. System':      [Exit, Print, Input, Command_Line_Arguments, Open, Path, OS_Commands],\n",
    "    '5. Data':        [JSON, Pickle, CSV, SQLite, Bytes, Struct, Array, Memory_View, Deque],\n",
    "    '6. Advanced':    [Threading, Operator, Introspection, Metaprograming, Eval, Coroutine],\n",
    "    '7. Libraries':   [Progress_Bar, Plot, Table, Curses, Logging, Scraping, Web, Profile,\n",
    "                       NumPy, Image, Audio, Games, Data, Cython]\n",
    "}"
   ]
  },
  {
   "cell_type": "markdown",
   "metadata": {},
   "source": [
    "## Main"
   ]
  },
  {
   "cell_type": "code",
   "execution_count": 1,
   "metadata": {},
   "outputs": [
    {
     "name": "stdout",
     "output_type": "stream",
     "text": [
      "hello charan\n"
     ]
    }
   ],
   "source": [
    "def main():\n",
    "    print('hello charan')\n",
    "\n",
    "if __name__ == '__main__':# Runs main() if file wasn't imported.\n",
    "    main()"
   ]
  },
  {
   "cell_type": "markdown",
   "metadata": {},
   "source": [
    "## List \n",
    "### `<list> = <list>[from_inclusive : to_exclusive : ±step_size]`\n",
    "`<list>.append(<el>)            # Or: <list> += [<el>]\n",
    "<list>.extend(<collection>)    # Or: <list> += <collection>\n",
    "<list>.sort()\n",
    "<list>.reverse()\n",
    "<list> = sorted(<collection>)\n",
    "<iter> = reversed(<list>)`"
   ]
  },
  {
   "cell_type": "code",
   "execution_count": 2,
   "metadata": {},
   "outputs": [
    {
     "name": "stdout",
     "output_type": "stream",
     "text": [
      "orginal list [1, 2, 3, 4, 6, 7, 3, 5, 76, 32, 54, 132, 54]\n",
      "after append [1, 2, 3, 4, 6, 7, 3, 5, 76, 32, 54, 132, 54, 20]\n",
      "after extended [1, 2, 3, 4, 6, 7, 3, 5, 76, 32, 54, 132, 54, 20, 101, 102, 103]\n",
      "sorted list [1, 2, 3, 3, 4, 5, 6, 7, 20, 32, 54, 54, 76, 101, 102, 103, 132]\n",
      "reverse list [132, 103, 102, 101, 76, 54, 54, 32, 20, 7, 6, 5, 4, 3, 3, 2, 1]\n",
      "reverse list with sort order  [132, 103, 102, 101, 76, 54, 54, 32, 20, 7, 6, 5, 4, 3, 3, 2, 1]\n",
      "Sorted collection [1, 2, 3, 3, 4, 5, 6, 7, 20, 32, 54, 54, 76, 101, 102, 103, 132]\n",
      "Reversed colletion <list_reverseiterator object at 0x7f2604670400>\n"
     ]
    }
   ],
   "source": [
    "list2 = [1,2,3,4,6,7,3,5,76,32,54,132,54]\n",
    "print('orginal list',list2)\n",
    "list2.append(20)\n",
    "print('after append',list2)\n",
    "list1 =[101,102,103]\n",
    "list2.extend(list1)\n",
    "print('after extended', list2)\n",
    "#Note:-  list.sort sorts the list in place, i.e. it doesn't return a new list. Just write\n",
    "list2.sort()\n",
    "print('sorted list',list2)\n",
    "list2.reverse()\n",
    "print('reverse list',list2)\n",
    "list2.sort(reverse=True)\n",
    "print('reverse list with sort order ',list2)\n",
    "print('Sorted collection', sorted(list2))\n",
    "print('Reversed colletion',reversed(list2))"
   ]
  },
  {
   "cell_type": "markdown",
   "metadata": {},
   "source": [
    "`sum_of_elements  = sum(<collection>)\n",
    "elementwise_sum  = [sum(pair) for pair in zip(list_a, list_b)]\n",
    "sorted_by_second = sorted(<collection>, key=lambda el: el[1])\n",
    "sorted_by_both   = sorted(<collection>, key=lambda el: (el[1], el[0]))\n",
    "flatter_list     = list(itertools.chain.from_iterable(<list>))\n",
    "product_of_elems = functools.reduce(lambda out, el: out * el, <collection>)\n",
    "list_of_chars    = list(<str>)`"
   ]
  },
  {
   "cell_type": "code",
   "execution_count": 3,
   "metadata": {},
   "outputs": [
    {
     "name": "stdout",
     "output_type": "stream",
     "text": [
      "sum of the elements 705\n",
      "element wise sum [233, 205, 205]\n",
      "element wise sum [<enumerate object at 0x7f2604671fc0>]\n",
      "(132, 101)\n",
      "(103, 102)\n",
      "(102, 103)\n",
      "[('Jimmy', 90, 22), ('Terence', 75, 12), ('David', 75, 20), ('Alison', 50, 18), ('John', 45, 12)]\n",
      "[('Jimmy', 90, 22), ('Terence', 75, 12), ('David', 75, 20), ('Alison', 50, 18), ('John', 45, 12)]\n"
     ]
    }
   ],
   "source": [
    "print('sum of the elements',sum(list2))\n",
    "print('element wise sum',[sum(pair) for pair in zip(list2,list1)])\n",
    "print('element wise sum',[enumerate(zip(list2,list1))])\n",
    "for i in zip(list2,list1):\n",
    "    print(i)\n",
    "\n",
    "# Nested list of student's info in a Science Olympiad\n",
    "# List elements: (Student's Name, Marks out of 100 , Age)\n",
    "participant_list = [\n",
    "    ('Alison', 50, 18),\n",
    "    ('Terence', 75, 12),\n",
    "    ('David', 75, 20),\n",
    "    ('Jimmy', 90, 22),\n",
    "    ('John', 45, 12)\n",
    "]\n",
    "\n",
    "\n",
    "def sorter(item):\n",
    "    # Since highest marks first, least error = most marks\n",
    "    error = 100 - item[1]\n",
    "    age = item[2]\n",
    "    return (error, age)\n",
    "\n",
    "\n",
    "sorted_list = sorted(participant_list, key=sorter)\n",
    "print(sorted_list)\n",
    "sorted_list = sorted(participant_list, key=lambda item: (100-item[1], item[2]))\n",
    "print(sorted_list)"
   ]
  },
  {
   "cell_type": "code",
   "execution_count": 8,
   "metadata": {},
   "outputs": [
    {
     "name": "stdout",
     "output_type": "stream",
     "text": [
      "[]\n",
      "['a', 'e', 'i', 'o', 'u']\n",
      "<zip object at 0x7f25f6546600>\n",
      "[(101, 132), (102, 103), (103, 102)]\n"
     ]
    }
   ],
   "source": [
    "name = 'charan kumar reddy'\n",
    "#print('list', list(name) )\n",
    "# empty list\n",
    "print(list())\n",
    "\n",
    "# vowel string\n",
    "vowel_string = 'aeiou'\n",
    "print(list(vowel_string))\n",
    "zip_list = zip(list1,list2)\n",
    "print(zip_list)\n",
    "print(list(zip_list))"
   ]
  },
  {
   "cell_type": "code",
   "execution_count": 19,
   "metadata": {},
   "outputs": [
    {
     "name": "stdout",
     "output_type": "stream",
     "text": [
      "The sum of the list elements is : 705\n",
      "The sum of the list elements is : 705\n",
      "get the maximum number by using reduce: 132\n",
      "The concatenated product is : geeksforgeeks\n",
      "The product of list elements is : 1061106\n"
     ]
    }
   ],
   "source": [
    "import functools\n",
    "# importing operator for operator functions \n",
    "import operator \n",
    "\n",
    "# using reduce to compute sum of list \n",
    "print (\"The sum of the list elements is : \",end=\"\") \n",
    "print( functools.reduce(lambda a,b: a+b, list2))\n",
    "print (\"The sum of the list elements is : \",end=\"\") \n",
    "print( functools.reduce(operator.add, list2))\n",
    "print('get the maximum number by using reduce: ',end=\"\")\n",
    "print(functools.reduce(lambda a,b:a if a>b else b,list2))\n",
    "# using reduce to concatenate string \n",
    "print (\"The concatenated product is : \",end=\"\") \n",
    "print (functools.reduce(operator.add,[\"geeks\",\"for\",\"geeks\"])) \n",
    "# using reduce to compute product \n",
    "# using operator functions \n",
    "print (\"The product of list elements is : \",end=\"\") \n",
    "print (functools.reduce(operator.mul,list1)) "
   ]
  },
  {
   "cell_type": "code",
   "execution_count": 21,
   "metadata": {},
   "outputs": [
    {
     "name": "stdout",
     "output_type": "stream",
     "text": [
      "['c', 'h', 'a', 'r', 'a', 'n', ' ', 'k', 'u', 'm', 'a', 'r', ' ', 'r', 'e', 'd', 'd', 'y']\n"
     ]
    }
   ],
   "source": [
    "name = 'charan kumar reddy'\n",
    "print(list(name))"
   ]
  },
  {
   "cell_type": "code",
   "execution_count": null,
   "metadata": {},
   "outputs": [],
   "source": []
  }
 ],
 "metadata": {
  "kernelspec": {
   "display_name": "Python 3",
   "language": "python",
   "name": "python3"
  },
  "language_info": {
   "codemirror_mode": {
    "name": "ipython",
    "version": 3
   },
   "file_extension": ".py",
   "mimetype": "text/x-python",
   "name": "python",
   "nbconvert_exporter": "python",
   "pygments_lexer": "ipython3",
   "version": "3.8.2"
  }
 },
 "nbformat": 4,
 "nbformat_minor": 4
}
