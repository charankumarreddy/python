{
 "cells": [
  {
   "cell_type": "markdown",
   "metadata": {},
   "source": [
    "## Dictionary"
   ]
  },
  {
   "cell_type": "markdown",
   "metadata": {},
   "source": [
    "`<view> = <dict>.keys()                          # Coll. of keys that reflects changes.\n",
    "<view> = <dict>.values()                        # Coll. of values that reflects changes.\n",
    "<view> = <dict>.items()                         # Coll. of key-value tuples that reflects chgs.`"
   ]
  },
  {
   "cell_type": "code",
   "execution_count": 2,
   "metadata": {},
   "outputs": [],
   "source": [
    "dict1 = { 1:'charan',2:'vikas',3:'venkat' }"
   ]
  },
  {
   "cell_type": "code",
   "execution_count": 3,
   "metadata": {},
   "outputs": [
    {
     "data": {
      "text/plain": [
       "{1: 'charan', 2: 'vikas', 3: 'venkat'}"
      ]
     },
     "execution_count": 3,
     "metadata": {},
     "output_type": "execute_result"
    }
   ],
   "source": [
    "dict1"
   ]
  },
  {
   "cell_type": "code",
   "execution_count": 4,
   "metadata": {},
   "outputs": [
    {
     "data": {
      "text/plain": [
       "dict_keys([1, 2, 3])"
      ]
     },
     "execution_count": 4,
     "metadata": {},
     "output_type": "execute_result"
    }
   ],
   "source": [
    "dict1.keys()"
   ]
  },
  {
   "cell_type": "code",
   "execution_count": 5,
   "metadata": {},
   "outputs": [
    {
     "data": {
      "text/plain": [
       "dict_values(['charan', 'vikas', 'venkat'])"
      ]
     },
     "execution_count": 5,
     "metadata": {},
     "output_type": "execute_result"
    }
   ],
   "source": [
    "dict1.values()"
   ]
  },
  {
   "cell_type": "code",
   "execution_count": 6,
   "metadata": {},
   "outputs": [
    {
     "data": {
      "text/plain": [
       "dict_items([(1, 'charan'), (2, 'vikas'), (3, 'venkat')])"
      ]
     },
     "execution_count": 6,
     "metadata": {},
     "output_type": "execute_result"
    }
   ],
   "source": [
    "dict1.items()"
   ]
  },
  {
   "cell_type": "code",
   "execution_count": 10,
   "metadata": {},
   "outputs": [
    {
     "name": "stdout",
     "output_type": "stream",
     "text": [
      "index:-  1\n",
      "value:-  charan\n",
      "index:-  2\n",
      "value:-  vikas\n",
      "index:-  3\n",
      "value:-  venkat\n"
     ]
    }
   ],
   "source": [
    "for index,value in  dict1.items():\n",
    "    print('index:- ', index)\n",
    "    print('value:- ',value )"
   ]
  },
  {
   "cell_type": "markdown",
   "metadata": {},
   "source": [
    "`value  = <dict>.get(key, default=None)          # Returns default if key is missing.\n",
    "value  = <dict>.setdefault(key, default=None)   # Returns and writes default if key is missing.\n",
    "<dict> = collections.defaultdict(<type>)        # Creates a dict with default value of type.\n",
    "<dict> = collections.defaultdict(lambda: 1)     # Creates a dict with default value 1.`"
   ]
  },
  {
   "cell_type": "code",
   "execution_count": 19,
   "metadata": {},
   "outputs": [
    {
     "name": "stdout",
     "output_type": "stream",
     "text": [
      "get first index charan\n",
      "get first index vikas\n",
      "get first index kumar\n"
     ]
    }
   ],
   "source": [
    "print('get first index',dict1.get(1))\n",
    "print('get first index',dict1.get(2))\n",
    "somedefault = 'kumar'\n",
    "print('get first index',dict1.get(10,somedefault))"
   ]
  },
  {
   "cell_type": "code",
   "execution_count": 20,
   "metadata": {},
   "outputs": [
    {
     "name": "stdout",
     "output_type": "stream",
     "text": [
      "1\n",
      "2\n",
      "Not Present\n"
     ]
    }
   ],
   "source": [
    "from collections import defaultdict\n",
    "# Function to return a default \n",
    "# values for keys that is not \n",
    "# present \n",
    "def def_value(): \n",
    "    return \"Not Present\"\n",
    "      \n",
    "# Defining the dict \n",
    "d = defaultdict(def_value) \n",
    "d[\"a\"] = 1\n",
    "d[\"b\"] = 2\n",
    "  \n",
    "print(d[\"a\"]) \n",
    "print(d[\"b\"]) \n",
    "print(d[\"c\"]) "
   ]
  },
  {
   "cell_type": "code",
   "execution_count": 21,
   "metadata": {},
   "outputs": [
    {
     "name": "stdout",
     "output_type": "stream",
     "text": [
      "1\n",
      "2\n",
      "Not Present\n"
     ]
    }
   ],
   "source": [
    "# Defining the dict and passing  \n",
    "# lambda as default_factory argument \n",
    "d = defaultdict(lambda: \"Not Present\") \n",
    "d[\"a\"] = 1\n",
    "d[\"b\"] = 2\n",
    "  \n",
    "print(d[\"a\"]) \n",
    "print(d[\"b\"]) \n",
    "print(d[\"c\"]) "
   ]
  },
  {
   "cell_type": "markdown",
   "metadata": {},
   "source": [
    "`<dict> = dict(<collection>)                     # Creates a dict from coll. of key-value pairs.\n",
    "<dict> = dict(zip(keys, values))                # Creates a dict from two collections.\n",
    "<dict> = dict.fromkeys(keys [, value])          # Creates a dict from collection of keys.`"
   ]
  },
  {
   "cell_type": "code",
   "execution_count": 25,
   "metadata": {},
   "outputs": [
    {
     "name": "stdout",
     "output_type": "stream",
     "text": [
      "{1: 'c', 2: 'a'}\n",
      "{1: 'charan', 2: 'venkata', 3: 'vikas'}\n"
     ]
    }
   ],
   "source": [
    "list1 =[1,2,3]\n",
    "list2 =['charan','venkata','vikas']\n",
    "dict1 = dict([(1,'c'),(2,'a')])\n",
    "print(dict1)\n",
    "dict2 = dict(zip(list1,list2))\n",
    "print(dict2)"
   ]
  },
  {
   "cell_type": "code",
   "execution_count": 35,
   "metadata": {},
   "outputs": [
    {
     "data": {
      "text/plain": [
       "{1: 'a', 2: 'a', 3: 'a'}"
      ]
     },
     "execution_count": 35,
     "metadata": {},
     "output_type": "execute_result"
    }
   ],
   "source": [
    "dict.fromkeys([1,2,3],'a')"
   ]
  },
  {
   "cell_type": "markdown",
   "metadata": {},
   "source": [
    "`<dict>.update(<dict>)                           # Adds items. Replaces ones with matching keys.\n",
    "value = <dict>.pop(key)                         # Removes item or raises KeyError.\n",
    "{k for k, v in <dict>.items() if v == value}    # Returns set of keys that point to the value.\n",
    "{k: v for k, v in <dict>.items() if k in keys}  # Returns a dictionary, filtered by keys.`"
   ]
  },
  {
   "cell_type": "code",
   "execution_count": 38,
   "metadata": {},
   "outputs": [],
   "source": [
    "dict1.update({1:'b'})"
   ]
  },
  {
   "cell_type": "code",
   "execution_count": 39,
   "metadata": {},
   "outputs": [
    {
     "data": {
      "text/plain": [
       "{1: 'b', 2: 'a'}"
      ]
     },
     "execution_count": 39,
     "metadata": {},
     "output_type": "execute_result"
    }
   ],
   "source": [
    "dict1"
   ]
  },
  {
   "cell_type": "code",
   "execution_count": 40,
   "metadata": {},
   "outputs": [
    {
     "data": {
      "text/plain": [
       "'b'"
      ]
     },
     "execution_count": 40,
     "metadata": {},
     "output_type": "execute_result"
    }
   ],
   "source": [
    "dict1.pop(1)"
   ]
  },
  {
   "cell_type": "code",
   "execution_count": 44,
   "metadata": {},
   "outputs": [
    {
     "data": {
      "text/plain": [
       "[1]"
      ]
     },
     "execution_count": 44,
     "metadata": {},
     "output_type": "execute_result"
    }
   ],
   "source": [
    "[k for k,v in dict2.items() if v =='charan']"
   ]
  },
  {
   "cell_type": "code",
   "execution_count": 45,
   "metadata": {},
   "outputs": [
    {
     "data": {
      "text/plain": [
       "{1: 'charan', 2: 'venkata'}"
      ]
     },
     "execution_count": 45,
     "metadata": {},
     "output_type": "execute_result"
    }
   ],
   "source": [
    "{k:v for k,v in dict2.items() if k in [1,2]}"
   ]
  },
  {
   "cell_type": "markdown",
   "metadata": {},
   "source": [
    "# Counter"
   ]
  },
  {
   "cell_type": "code",
   "execution_count": 48,
   "metadata": {},
   "outputs": [
    {
     "data": {
      "text/plain": [
       "Counter({'blue': 3, 'red': 2, 'yellow': 1})"
      ]
     },
     "execution_count": 48,
     "metadata": {},
     "output_type": "execute_result"
    }
   ],
   "source": [
    "from collections import Counter\n",
    "colors = ['blue', 'blue', 'blue', 'red', 'red']\n",
    "counter = Counter(colors)\n",
    "counter['yellow'] +=1\n",
    "counter"
   ]
  },
  {
   "cell_type": "code",
   "execution_count": 49,
   "metadata": {},
   "outputs": [
    {
     "data": {
      "text/plain": [
       "[('blue', 3), ('red', 2), ('yellow', 1)]"
      ]
     },
     "execution_count": 49,
     "metadata": {},
     "output_type": "execute_result"
    }
   ],
   "source": [
    "counter.most_common()"
   ]
  },
  {
   "cell_type": "code",
   "execution_count": null,
   "metadata": {},
   "outputs": [],
   "source": [
    "    "
   ]
  }
 ],
 "metadata": {
  "kernelspec": {
   "display_name": "Python 3",
   "language": "python",
   "name": "python3"
  },
  "language_info": {
   "codemirror_mode": {
    "name": "ipython",
    "version": 3
   },
   "file_extension": ".py",
   "mimetype": "text/x-python",
   "name": "python",
   "nbconvert_exporter": "python",
   "pygments_lexer": "ipython3",
   "version": "3.8.2"
  }
 },
 "nbformat": 4,
 "nbformat_minor": 4
}
