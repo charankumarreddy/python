{
 "cells": [
  {
   "cell_type": "markdown",
   "metadata": {},
   "source": [
    "`<str>  = <str>.strip()                       # Strips all whitespace characters from both ends.\n",
    "<str>  = <str>.strip('<chars>')              # Strips all passed characters from both ends.`"
   ]
  },
  {
   "cell_type": "code",
   "execution_count": 2,
   "metadata": {},
   "outputs": [
    {
     "data": {
      "text/plain": [
       "'charan kumar reddy'"
      ]
     },
     "execution_count": 2,
     "metadata": {},
     "output_type": "execute_result"
    }
   ],
   "source": [
    "str1 = '     charan kumar reddy     '\n",
    "str1.strip()"
   ]
  },
  {
   "cell_type": "code",
   "execution_count": 3,
   "metadata": {},
   "outputs": [
    {
     "data": {
      "text/plain": [
       "'charan kumar reddy'"
      ]
     },
     "execution_count": 3,
     "metadata": {},
     "output_type": "execute_result"
    }
   ],
   "source": [
    "str2 = 'xxxcharan kumar reddyxxx'\n",
    "str2.strip('x')"
   ]
  },
  {
   "cell_type": "markdown",
   "metadata": {},
   "source": [
    "`<list> = <str>.split()                       # Splits on one or more whitespace characters.\n",
    "<list> = <str>.split(sep=None, maxsplit=-1)  # Splits on 'sep' str at most 'maxsplit' times.\n",
    "<list> = <str>.splitlines(keepends=False)    # Splits on \\n,\\r,\\r\\n. Keeps them if 'keepends'.\n",
    "<str>  = <str>.join(<coll_of_strings>)       # Joins elements using string as separator.`"
   ]
  },
  {
   "cell_type": "code",
   "execution_count": 5,
   "metadata": {},
   "outputs": [],
   "source": [
    "split1 = str1.split()"
   ]
  },
  {
   "cell_type": "code",
   "execution_count": 6,
   "metadata": {},
   "outputs": [
    {
     "data": {
      "text/plain": [
       "['charan', 'kumar', 'reddy']"
      ]
     },
     "execution_count": 6,
     "metadata": {},
     "output_type": "execute_result"
    }
   ],
   "source": [
    "split1"
   ]
  },
  {
   "cell_type": "code",
   "execution_count": 7,
   "metadata": {},
   "outputs": [],
   "source": [
    "split2 = str1.split(sep='a')"
   ]
  },
  {
   "cell_type": "code",
   "execution_count": 8,
   "metadata": {},
   "outputs": [
    {
     "data": {
      "text/plain": [
       "['     ch', 'r', 'n kum', 'r reddy     ']"
      ]
     },
     "execution_count": 8,
     "metadata": {},
     "output_type": "execute_result"
    }
   ],
   "source": [
    "split2"
   ]
  },
  {
   "cell_type": "code",
   "execution_count": 15,
   "metadata": {},
   "outputs": [],
   "source": [
    "split3 = str1.split(sep='a', maxsplit=10)"
   ]
  },
  {
   "cell_type": "code",
   "execution_count": 16,
   "metadata": {},
   "outputs": [
    {
     "data": {
      "text/plain": [
       "['     ch', 'r', 'n kum', 'r reddy     ']"
      ]
     },
     "execution_count": 16,
     "metadata": {},
     "output_type": "execute_result"
    }
   ],
   "source": [
    "split3"
   ]
  },
  {
   "cell_type": "code",
   "execution_count": 18,
   "metadata": {},
   "outputs": [
    {
     "data": {
      "text/plain": [
       "['charan kumar ', ' reddy']"
      ]
     },
     "execution_count": 18,
     "metadata": {},
     "output_type": "execute_result"
    }
   ],
   "source": [
    "str3 = 'charan kumar \\n reddy'\n",
    "split4 = str3.splitlines(keepends=False)\n",
    "split4"
   ]
  },
  {
   "cell_type": "code",
   "execution_count": 19,
   "metadata": {},
   "outputs": [
    {
     "data": {
      "text/plain": [
       "'kcharanucharanmcharanacharanrcharan charanrcharanecharandcharandcharany'"
      ]
     },
     "execution_count": 19,
     "metadata": {},
     "output_type": "execute_result"
    }
   ],
   "source": [
    "str4 = 'charan'\n",
    "str5 = 'kumar reddy'\n",
    "str4.join(str5)"
   ]
  },
  {
   "cell_type": "markdown",
   "metadata": {},
   "source": [
    "`<bool> = <sub_str> in <str>                 # Checks if string contains a substring.\n",
    "<bool> = <str>.startswith(<sub_str>)         # Pass tuple of strings for multiple options.\n",
    "<bool> = <str>.endswith(<sub_str>)           # Pass tuple of strings for multiple options.\n",
    "<int>  = <str>.find(<sub_str>)               # Returns start index of first match or -1.\n",
    "<int>  = <str>.index(<sub_str>)              # Same but raises ValueError if missing.`"
   ]
  },
  {
   "cell_type": "code",
   "execution_count": 22,
   "metadata": {},
   "outputs": [
    {
     "name": "stdout",
     "output_type": "stream",
     "text": [
      "True\n"
     ]
    }
   ],
   "source": [
    "print('charan' in 'charan kumar reddy')"
   ]
  },
  {
   "cell_type": "code",
   "execution_count": 23,
   "metadata": {},
   "outputs": [
    {
     "name": "stdout",
     "output_type": "stream",
     "text": [
      "True\n"
     ]
    }
   ],
   "source": [
    "print('charan'.startswith('c'))"
   ]
  },
  {
   "cell_type": "code",
   "execution_count": 24,
   "metadata": {},
   "outputs": [
    {
     "name": "stdout",
     "output_type": "stream",
     "text": [
      "True\n"
     ]
    }
   ],
   "source": [
    "print('charan'.endswith('n'))"
   ]
  },
  {
   "cell_type": "code",
   "execution_count": 29,
   "metadata": {},
   "outputs": [],
   "source": [
    "int1 = 'charan kumar reddy'.find('kumar')"
   ]
  },
  {
   "cell_type": "code",
   "execution_count": 30,
   "metadata": {},
   "outputs": [
    {
     "data": {
      "text/plain": [
       "7"
      ]
     },
     "execution_count": 30,
     "metadata": {},
     "output_type": "execute_result"
    }
   ],
   "source": [
    "int1"
   ]
  },
  {
   "cell_type": "code",
   "execution_count": 31,
   "metadata": {},
   "outputs": [],
   "source": [
    "int2 = 'charan kumar reddy'.index('reddy')"
   ]
  },
  {
   "cell_type": "code",
   "execution_count": 32,
   "metadata": {},
   "outputs": [
    {
     "data": {
      "text/plain": [
       "13"
      ]
     },
     "execution_count": 32,
     "metadata": {},
     "output_type": "execute_result"
    }
   ],
   "source": [
    "int2"
   ]
  },
  {
   "cell_type": "markdown",
   "metadata": {},
   "source": [
    "`<str>  = <str>.replace(old, new [, count])   # Replaces 'old' with 'new' at most 'count' times.\n",
    "<str>  = <str>.translate(<table>)            # Use `str.maketrans(<dict>)` to generate table.\n",
    "<str>  = chr(<int>)                          # Converts int to Unicode char.\n",
    "<int>  = ord(<str>)                          # Converts Unicode char to int.`"
   ]
  },
  {
   "cell_type": "code",
   "execution_count": 33,
   "metadata": {},
   "outputs": [],
   "source": [
    "str5 = 'charan kumar reddy'.replace('a','x')"
   ]
  },
  {
   "cell_type": "code",
   "execution_count": 34,
   "metadata": {},
   "outputs": [
    {
     "data": {
      "text/plain": [
       "'chxrxn kumxr reddy'"
      ]
     },
     "execution_count": 34,
     "metadata": {},
     "output_type": "execute_result"
    }
   ],
   "source": [
    "str5"
   ]
  },
  {
   "cell_type": "code",
   "execution_count": 40,
   "metadata": {},
   "outputs": [
    {
     "data": {
      "text/plain": [
       "'N'"
      ]
     },
     "execution_count": 40,
     "metadata": {},
     "output_type": "execute_result"
    }
   ],
   "source": [
    "chr(78)"
   ]
  },
  {
   "cell_type": "code",
   "execution_count": 41,
   "metadata": {},
   "outputs": [
    {
     "data": {
      "text/plain": [
       "78"
      ]
     },
     "execution_count": 41,
     "metadata": {},
     "output_type": "execute_result"
    }
   ],
   "source": [
    "ord('N')"
   ]
  },
  {
   "cell_type": "markdown",
   "metadata": {},
   "source": [
    "### Also: 'lstrip()', 'rstrip()'.\n",
    "### Also: 'lower()', 'upper()', 'capitalize()' and 'title()'."
   ]
  },
  {
   "cell_type": "markdown",
   "metadata": {},
   "source": [
    "## Property Methods"
   ]
  },
  {
   "cell_type": "code",
   "execution_count": 42,
   "metadata": {},
   "outputs": [],
   "source": [
    "#┏━━━━━━━━━━━━━━━┯━━━━━━━━━━┯━━━━━━━━━━┯━━━━━━━━━━┯━━━━━━━━━━┯━━━━━━━━━━┓\n",
    "#┃               │ [ !#$%…] │ [a-zA-Z] │  [¼½¾]   │  [²³¹]   │  [0-9]   ┃\n",
    "#┠───────────────┼──────────┼──────────┼──────────┼──────────┼──────────┨\n",
    "#┃ isprintable() │    ✓    │    ✓     │    ✓     │    ✓     │    ✓     ┃\n",
    "#┃ isalnum()     │          │    ✓     │    ✓     │    ✓     │    ✓     ┃\n",
    "#┃ isnumeric()   │          │          │    ✓     │    ✓     │    ✓     ┃\n",
    "#┃ isdigit()     │          │          │          │    ✓     │    ✓     ┃\n",
    "#┃ isdecimal()   │          │          │          │          │    ✓     ┃\n",
    "#┗━━━━━━━━━━━━━━━┷━━━━━━━━━━┷━━━━━━━━━━┷━━━━━━━━━━┷━━━━━━━━━━┷━━━━━━━━━━┛"
   ]
  },
  {
   "cell_type": "markdown",
   "metadata": {},
   "source": [
    "### Also: 'isspace()' checks for '[ \\t\\n\\r\\f\\v…]'."
   ]
  },
  {
   "cell_type": "markdown",
   "metadata": {},
   "source": [
    "'!r' calls object's repr() method, instead of str(), to get a string.\n",
    "\n",
    "`{'abcde'!r:10}                                 # \"'abcde'   \"\n",
    "{'abcde':10.3}                                 # 'abc       '\n",
    "{'abcde':.3}                                   # 'abc'`"
   ]
  },
  {
   "cell_type": "code",
   "execution_count": 51,
   "metadata": {},
   "outputs": [
    {
     "name": "stdout",
     "output_type": "stream",
     "text": [
      "'ab'      \n"
     ]
    }
   ],
   "source": [
    "print(f\"{'ab'!r:10}\")"
   ]
  },
  {
   "cell_type": "code",
   "execution_count": 52,
   "metadata": {},
   "outputs": [
    {
     "name": "stdout",
     "output_type": "stream",
     "text": [
      "abc       \n"
     ]
    }
   ],
   "source": [
    "print(f\"{'abcde':10.3}\")"
   ]
  },
  {
   "cell_type": "code",
   "execution_count": 53,
   "metadata": {},
   "outputs": [
    {
     "name": "stdout",
     "output_type": "stream",
     "text": [
      "abc\n"
     ]
    }
   ],
   "source": [
    "print(f\"{'abcde':.3}\")"
   ]
  },
  {
   "cell_type": "code",
   "execution_count": null,
   "metadata": {},
   "outputs": [],
   "source": []
  }
 ],
 "metadata": {
  "kernelspec": {
   "display_name": "Python 3",
   "language": "python",
   "name": "python3"
  },
  "language_info": {
   "codemirror_mode": {
    "name": "ipython",
    "version": 3
   },
   "file_extension": ".py",
   "mimetype": "text/x-python",
   "name": "python",
   "nbconvert_exporter": "python",
   "pygments_lexer": "ipython3",
   "version": "3.8.2"
  }
 },
 "nbformat": 4,
 "nbformat_minor": 4
}
