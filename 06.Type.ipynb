{
 "cells": [
  {
   "cell_type": "markdown",
   "metadata": {},
   "source": [
    "# Type"
   ]
  },
  {
   "cell_type": "markdown",
   "metadata": {},
   "source": [
    "1. Everything is an object.\n",
    "2. Every object has a type.\n",
    "3. Type and class are synonymous.\n",
    "\n",
    "`<type> = type(<el>)                          # Or: <el>.__class__\n",
    "<bool> = isinstance(<el>, <type>)            # Or: issubclass(type(<el>), <type>)`"
   ]
  },
  {
   "cell_type": "code",
   "execution_count": 2,
   "metadata": {},
   "outputs": [
    {
     "name": "stdout",
     "output_type": "stream",
     "text": [
      "<class 'int'>\n",
      "<class 'str'>\n",
      "<class 'bool'>\n"
     ]
    }
   ],
   "source": [
    "num1 = 1\n",
    "num2 ='charan'\n",
    "num3 = True\n",
    "\n",
    "print(type(num1))\n",
    "print(type(num2))\n",
    "print(type(num3))"
   ]
  },
  {
   "cell_type": "code",
   "execution_count": 3,
   "metadata": {},
   "outputs": [
    {
     "data": {
      "text/plain": [
       "int"
      ]
     },
     "execution_count": 3,
     "metadata": {},
     "output_type": "execute_result"
    }
   ],
   "source": [
    "num1.__class__"
   ]
  },
  {
   "cell_type": "code",
   "execution_count": 4,
   "metadata": {},
   "outputs": [
    {
     "data": {
      "text/plain": [
       "str"
      ]
     },
     "execution_count": 4,
     "metadata": {},
     "output_type": "execute_result"
    }
   ],
   "source": [
    "str"
   ]
  },
  {
   "cell_type": "code",
   "execution_count": 5,
   "metadata": {},
   "outputs": [
    {
     "data": {
      "text/plain": [
       "True"
      ]
     },
     "execution_count": 5,
     "metadata": {},
     "output_type": "execute_result"
    }
   ],
   "source": [
    "isinstance(num1,int)"
   ]
  },
  {
   "cell_type": "code",
   "execution_count": 6,
   "metadata": {},
   "outputs": [
    {
     "data": {
      "text/plain": [
       "False"
      ]
     },
     "execution_count": 6,
     "metadata": {},
     "output_type": "execute_result"
    }
   ],
   "source": [
    "isinstance(num1,bool)"
   ]
  },
  {
   "cell_type": "code",
   "execution_count": 8,
   "metadata": {},
   "outputs": [
    {
     "name": "stdout",
     "output_type": "stream",
     "text": [
      "True\n",
      "False\n",
      "True\n",
      "True\n",
      "True\n"
     ]
    }
   ],
   "source": [
    "# Python3 simple code to explain \n",
    "# the type() function \n",
    "print(type([]) is list) \n",
    "  \n",
    "print(type([]) is not list) \n",
    "  \n",
    "print(type(()) is tuple) \n",
    "  \n",
    "print(type({}) is dict) \n",
    "  \n",
    "print(type({}) is not list) "
   ]
  },
  {
   "cell_type": "code",
   "execution_count": 9,
   "metadata": {},
   "outputs": [
    {
     "name": "stdout",
     "output_type": "stream",
     "text": [
      "<class 'dict'>\n",
      "<class 'list'>\n",
      "<class 'tuple'>\n"
     ]
    }
   ],
   "source": [
    "# Python3 code to explain \n",
    "# the type() function \n",
    "\n",
    "# Class of type dict \n",
    "class DictType: \n",
    "\tDictNumber = {1:'John', 2:'Wick', \n",
    "\t\t\t\t3:'Barry', 4:'Allen'} \n",
    "\t\n",
    "\t# Will print the object type \n",
    "\t# of existing class \n",
    "\tprint(type(DictNumber)) \n",
    "\n",
    "# Class of type list\t \n",
    "class ListType: \n",
    "\tListNumber = [1, 2, 3, 4, 5] \n",
    "\t\n",
    "\t# Will print the object type \n",
    "\t# of existing class \n",
    "\tprint(type(ListNumber)) \n",
    "\n",
    "# Class of type tuple\t \n",
    "class TupleType: \n",
    "\tTupleNumber = ('Geeks', 'for', 'geeks') \n",
    "\t\n",
    "\t# Will print the object type \n",
    "\t# of existing class \n",
    "\tprint(type(TupleNumber)) \n",
    "\n",
    "# Creating object of each class\t \n",
    "d = DictType() \n",
    "l = ListType() \n",
    "t = TupleType() \n"
   ]
  },
  {
   "cell_type": "code",
   "execution_count": 10,
   "metadata": {},
   "outputs": [
    {
     "name": "stdout",
     "output_type": "stream",
     "text": [
      "Both class have different object type.\n"
     ]
    }
   ],
   "source": [
    "# Python3 code to explain \n",
    "# the type() function \n",
    "\n",
    "# Class of type dict \n",
    "class DictType: \n",
    "\tDictNumber = {1:'John', 2:'Wick', 3:'Barry', 4:'Allen'} \n",
    "\t\n",
    "# Class of type list\t \n",
    "class ListType: \n",
    "\tListNumber = [1, 2, 3, 4, 5] \n",
    "\n",
    "# Creating object of each class \n",
    "d = DictType() \n",
    "l = ListType() \n",
    "\n",
    "# Will print accordingly whether both \n",
    "# the objects are of same type or not \n",
    "if type(d) is not type(l): \n",
    "\tprint(\"Both class have different object type.\") \n",
    "else: \n",
    "\tprint(\"Same Object type\") \n"
   ]
  },
  {
   "cell_type": "code",
   "execution_count": null,
   "metadata": {},
   "outputs": [],
   "source": []
  },
  {
   "cell_type": "markdown",
   "metadata": {},
   "source": [
    "## Some types do not have built-in names, so they must be imported:"
   ]
  },
  {
   "cell_type": "code",
   "execution_count": 7,
   "metadata": {},
   "outputs": [],
   "source": [
    "from types import FunctionType,MethodType, LambdaType, GeneratorType"
   ]
  },
  {
   "cell_type": "code",
   "execution_count": 11,
   "metadata": {},
   "outputs": [
    {
     "name": "stdout",
     "output_type": "stream",
     "text": [
      "bar\n"
     ]
    }
   ],
   "source": [
    "foo_code = compile('def foo(): return \"bar\"', \"<string>\", \"exec\")\n",
    "foo_func = FunctionType(foo_code.co_consts[0], globals(), \"foo\")\n",
    "\n",
    "print(foo_func())"
   ]
  },
  {
   "cell_type": "code",
   "execution_count": 14,
   "metadata": {},
   "outputs": [
    {
     "name": "stdout",
     "output_type": "stream",
     "text": [
      "I am called from charan\n"
     ]
    }
   ],
   "source": [
    "def func(obj):\n",
    "  print('I am called from', obj)\n",
    "class A:\n",
    "  pass\n",
    "a=A()\n",
    "a.func=func\n",
    "a.func('charan')"
   ]
  },
  {
   "cell_type": "code",
   "execution_count": 16,
   "metadata": {},
   "outputs": [
    {
     "name": "stdout",
     "output_type": "stream",
     "text": [
      "I am called from <__main__.A object at 0x7fa2c522c880>\n"
     ]
    }
   ],
   "source": [
    "import types\n",
    "a.func = types.MethodType(func, a) # or types.MethodType(func, a, A) for PY2\n",
    "a.func()"
   ]
  },
  {
   "cell_type": "markdown",
   "metadata": {},
   "source": [
    "# Abstract Base Classes\n",
    "Each abstract base class specifies a set of virtual subclasses. These classes are then recognized by isinstance() and issubclass() as subclasses of the ABC, although they are really not."
   ]
  },
  {
   "cell_type": "code",
   "execution_count": 18,
   "metadata": {},
   "outputs": [
    {
     "data": {
      "text/plain": [
       "True"
      ]
     },
     "execution_count": 18,
     "metadata": {},
     "output_type": "execute_result"
    }
   ],
   "source": [
    "from collections.abc import Sequence, Collection, Iterable\n",
    "\n",
    "isinstance([1, 2, 3], Iterable)"
   ]
  },
  {
   "cell_type": "code",
   "execution_count": 19,
   "metadata": {},
   "outputs": [],
   "source": [
    "#┏━━━━━━━━━━━━━━━━━━┯━━━━━━━━━━━━┯━━━━━━━━━━━━┯━━━━━━━━━━━━┓\n",
    "#┃                  │  Sequence  │ Collection │  Iterable  ┃\n",
    "#┠──────────────────┼────────────┼────────────┼────────────┨\n",
    "#┃ list, range, str │     ✓      │     ✓      │     ✓      ┃\n",
    "#┃ dict, set        │            │     ✓      │     ✓      ┃\n",
    "#┃ iter             │            │            │     ✓      ┃\n",
    "#┗━━━━━━━━━━━━━━━━━━┷━━━━━━━━━━━━┷━━━━━━━━━━━━┷━━━━━━━━━━━━┛"
   ]
  },
  {
   "cell_type": "code",
   "execution_count": 20,
   "metadata": {},
   "outputs": [
    {
     "data": {
      "text/plain": [
       "True"
      ]
     },
     "execution_count": 20,
     "metadata": {},
     "output_type": "execute_result"
    }
   ],
   "source": [
    "from numbers import Integral, Rational, Real, Complex, Number\n",
    "isinstance(123, Number)"
   ]
  },
  {
   "cell_type": "code",
   "execution_count": 21,
   "metadata": {},
   "outputs": [],
   "source": [
    "#┏━━━━━━━━━━━━━━━━━━━━┯━━━━━━━━━━┯━━━━━━━━━━┯━━━━━━━━━━┯━━━━━━━━━━┯━━━━━━━━━━┓\n",
    "#┃                    │ Integral │ Rational │   Real   │ Complex  │  Number  ┃\n",
    "#┠────────────────────┼──────────┼──────────┼──────────┼──────────┼──────────┨\n",
    "#┃ int                │    ✓    │    ✓     │    ✓     │    ✓     │    ✓     ┃\n",
    "#┃ fractions.Fraction │          │    ✓    │    ✓     │    ✓     │    ✓     ┃\n",
    "#┃ float              │          │          │    ✓    │    ✓     │    ✓     ┃\n",
    "#┃ complex            │          │          │          │    ✓    │    ✓     ┃\n",
    "#┃ decimal.Decimal    │          │          │          │          │    ✓     ┃\n",
    "#┗━━━━━━━━━━━━━━━━━━━━┷━━━━━━━━━━┷━━━━━━━━━━┷━━━━━━━━━━┷━━━━━━━━━━┷━━━━━━━━━━┛"
   ]
  },
  {
   "cell_type": "code",
   "execution_count": 22,
   "metadata": {},
   "outputs": [
    {
     "data": {
      "text/plain": [
       "True"
      ]
     },
     "execution_count": 22,
     "metadata": {},
     "output_type": "execute_result"
    }
   ],
   "source": [
    "isinstance(123, Complex)"
   ]
  },
  {
   "cell_type": "code",
   "execution_count": 23,
   "metadata": {},
   "outputs": [
    {
     "data": {
      "text/plain": [
       "True"
      ]
     },
     "execution_count": 23,
     "metadata": {},
     "output_type": "execute_result"
    }
   ],
   "source": [
    "isinstance(123, Rational)"
   ]
  },
  {
   "cell_type": "code",
   "execution_count": 25,
   "metadata": {},
   "outputs": [
    {
     "data": {
      "text/plain": [
       "False"
      ]
     },
     "execution_count": 25,
     "metadata": {},
     "output_type": "execute_result"
    }
   ],
   "source": [
    "isinstance(123.00, Rational)"
   ]
  },
  {
   "cell_type": "code",
   "execution_count": null,
   "metadata": {},
   "outputs": [],
   "source": []
  }
 ],
 "metadata": {
  "kernelspec": {
   "display_name": "Python 3",
   "language": "python",
   "name": "python3"
  },
  "language_info": {
   "codemirror_mode": {
    "name": "ipython",
    "version": 3
   },
   "file_extension": ".py",
   "mimetype": "text/x-python",
   "name": "python",
   "nbconvert_exporter": "python",
   "pygments_lexer": "ipython3",
   "version": "3.8.2"
  }
 },
 "nbformat": 4,
 "nbformat_minor": 4
}
